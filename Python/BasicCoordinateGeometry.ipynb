{
 "cells": [
  {
   "cell_type": "code",
   "execution_count": 3,
   "id": "1c9fc7f9-7cc3-4594-9d6b-0e2e612e3998",
   "metadata": {},
   "outputs": [
    {
     "name": "stdout",
     "output_type": "stream",
     "text": [
      "5.0\n"
     ]
    }
   ],
   "source": [
    "import math\n",
    "\n",
    "def euclidean(A,B):\n",
    "    sumOfSquares=(B[0]-A[0])**2 + (B[1]-A[1])**2\n",
    "    distance = math.sqrt(sumOfSquares)\n",
    "    return distance\n",
    "\n",
    "pointA = (0,0)\n",
    "pointB = (3,4)\n",
    "print(euclidean(pointA, pointB))\n"
   ]
  },
  {
   "cell_type": "code",
   "execution_count": 7,
   "id": "b75e316b-587a-4a25-9af0-8fef94608f19",
   "metadata": {},
   "outputs": [
    {
     "name": "stdout",
     "output_type": "stream",
     "text": [
      "Not A Triangle\n"
     ]
    }
   ],
   "source": [
    "def isTriangle(pA, pB, pC):\n",
    "    #avoidng multiplication by 0.5 for simplicity and avoiding floating point calculations\n",
    "    area = pA[0]*(pB[1]-pC[1]) + pB[0]*(pC[1]-pA[1]) + pC[0]*(pA[1]-pB[1])\n",
    "    if area == 0 :\n",
    "        print(\"Not A Triangle\")\n",
    "    else :\n",
    "        print(\"is A Triangle\")\n",
    "\n",
    "p1 = (0,0)\n",
    "p2 = (1,1)\n",
    "p3 = (2,2)\n",
    "isTriangle(p1,p2,p3)\n",
    "\n"
   ]
  },
  {
   "cell_type": "code",
   "execution_count": 11,
   "id": "46fe1ddd-b79a-44dd-87fc-4d816df81a64",
   "metadata": {},
   "outputs": [
    {
     "name": "stdout",
     "output_type": "stream",
     "text": [
      "False\n"
     ]
    }
   ],
   "source": [
    "def sqDist(pA,pB):\n",
    "    #calculating square of distance between points\n",
    "    return ((pA[0]-pB[0])**2 + (pA[1]-pB[1])**2)\n",
    "    \n",
    "def isRectangle(pA,pB, pC, pD):\n",
    "    points = [pA,pB,pC,pD]\n",
    "\n",
    "    distances = []\n",
    "    for i in range(4):\n",
    "        for j in range(i+1,4):\n",
    "            distances.append(sqDist(points[i], points[j]))\n",
    "\n",
    "    distances.sort()\n",
    "    if(distances[0]==distances[1] and\n",
    "       distances[2]==distances[3] and \n",
    "       distances[4]==distances[5]):\n",
    "        #check pythagoras for diagonal\n",
    "        if((distances[0] + distances[2]) == distances[4]):\n",
    "            return True;\n",
    "\n",
    "    return False\n",
    "\n",
    "p1=(0,0)\n",
    "p2=(0,2)\n",
    "p3=(1,0)\n",
    "p4=(1,2)\n",
    "\n",
    "print(isRectangle(p1,p2,p3,p4))\n",
    "    \n",
    "    "
   ]
  },
  {
   "cell_type": "code",
   "execution_count": null,
   "id": "746e35e9-d1cc-46f2-abbf-16be8a014dc9",
   "metadata": {},
   "outputs": [],
   "source": []
  }
 ],
 "metadata": {
  "kernelspec": {
   "display_name": "Python 3 (ipykernel)",
   "language": "python",
   "name": "python3"
  },
  "language_info": {
   "codemirror_mode": {
    "name": "ipython",
    "version": 3
   },
   "file_extension": ".py",
   "mimetype": "text/x-python",
   "name": "python",
   "nbconvert_exporter": "python",
   "pygments_lexer": "ipython3",
   "version": "3.11.8"
  }
 },
 "nbformat": 4,
 "nbformat_minor": 5
}
